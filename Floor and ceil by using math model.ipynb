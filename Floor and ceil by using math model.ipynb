{
 "cells": [
  {
   "cell_type": "code",
   "execution_count": null,
   "id": "962753b1-4d24-4f5e-8cd2-5fae88fe2647",
   "metadata": {},
   "outputs": [],
   "source": [
    "from math import floor,ceil\n",
    "num=7.9\n",
    "print(\"floor:\",floor(num))\n",
    "print(\"ceil:\",ceil(num))\n"
   ]
  }
 ],
 "metadata": {
  "kernelspec": {
   "display_name": "Python 3 (ipykernel)",
   "language": "python",
   "name": "python3"
  },
  "language_info": {
   "codemirror_mode": {
    "name": "ipython",
    "version": 3
   },
   "file_extension": ".py",
   "mimetype": "text/x-python",
   "name": "python",
   "nbconvert_exporter": "python",
   "pygments_lexer": "ipython3",
   "version": "3.12.7"
  }
 },
 "nbformat": 4,
 "nbformat_minor": 5
}
