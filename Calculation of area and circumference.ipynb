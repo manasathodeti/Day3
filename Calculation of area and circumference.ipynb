{
 "cells": [
  {
   "cell_type": "code",
   "execution_count": null,
   "id": "d12cc0ce-02d5-476f-be22-8f1e47b79265",
   "metadata": {},
   "outputs": [],
   "source": [
    "#calculate the area and circumference\n",
    "r=float(input(\"Enter the value of radius:\"))\n",
    "area=pi*(r**2)\n",
    "c=2*pi*r\n",
    "print(\"area:\",area)\n",
    "print(\"circumference:\",c)"
   ]
  }
 ],
 "metadata": {
  "kernelspec": {
   "display_name": "Python 3 (ipykernel)",
   "language": "python",
   "name": "python3"
  },
  "language_info": {
   "codemirror_mode": {
    "name": "ipython",
    "version": 3
   },
   "file_extension": ".py",
   "mimetype": "text/x-python",
   "name": "python",
   "nbconvert_exporter": "python",
   "pygments_lexer": "ipython3",
   "version": "3.12.7"
  }
 },
 "nbformat": 4,
 "nbformat_minor": 5
}
