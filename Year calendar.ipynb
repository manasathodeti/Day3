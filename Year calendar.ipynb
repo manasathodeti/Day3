{
 "cells": [
  {
   "cell_type": "code",
   "execution_count": null,
   "id": "87dd8d65-8cc0-4e50-9a9f-c38ce32017e9",
   "metadata": {},
   "outputs": [],
   "source": [
    "import calendar\n",
    "year=2005\n",
    "print(calendar.calendar(year))"
   ]
  }
 ],
 "metadata": {
  "kernelspec": {
   "display_name": "Python 3 (ipykernel)",
   "language": "python",
   "name": "python3"
  },
  "language_info": {
   "codemirror_mode": {
    "name": "ipython",
    "version": 3
   },
   "file_extension": ".py",
   "mimetype": "text/x-python",
   "name": "python",
   "nbconvert_exporter": "python",
   "pygments_lexer": "ipython3",
   "version": "3.12.7"
  }
 },
 "nbformat": 4,
 "nbformat_minor": 5
}
