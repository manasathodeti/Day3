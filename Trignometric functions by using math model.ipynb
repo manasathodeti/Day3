{
 "cells": [
  {
   "cell_type": "code",
   "execution_count": null,
   "id": "a37a5f64-9f09-414f-a7ba-7ce11ee8f521",
   "metadata": {},
   "outputs": [],
   "source": [
    "#trignometric functions\n",
    "from math import sin,cos,tan,radians\n",
    "angle=30\n",
    "print(\"sin:\",sin(radians(angle)))\n",
    "print(\"cos:\",cos(radians(angle)))\n",
    "print(\"tan:\",tan(radians(angle)))\n",
    "\n"
   ]
  }
 ],
 "metadata": {
  "kernelspec": {
   "display_name": "Python 3 (ipykernel)",
   "language": "python",
   "name": "python3"
  },
  "language_info": {
   "codemirror_mode": {
    "name": "ipython",
    "version": 3
   },
   "file_extension": ".py",
   "mimetype": "text/x-python",
   "name": "python",
   "nbconvert_exporter": "python",
   "pygments_lexer": "ipython3",
   "version": "3.12.7"
  }
 },
 "nbformat": 4,
 "nbformat_minor": 5
}
