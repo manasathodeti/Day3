{
 "cells": [
  {
   "cell_type": "code",
   "execution_count": null,
   "id": "147cab38-11c6-4ed6-8589-ecda8fb61080",
   "metadata": {},
   "outputs": [],
   "source": [
    "#date time and calendar epoch time\n",
    "from datetime import datetime\n",
    "now=datetime.now()\n",
    "print(\"current time:\",now)\n",
    "print(\"Date:\",now.date())\n",
    "print(\"Time:\",now.time())"
   ]
  }
 ],
 "metadata": {
  "kernelspec": {
   "display_name": "Python 3 (ipykernel)",
   "language": "python",
   "name": "python3"
  },
  "language_info": {
   "codemirror_mode": {
    "name": "ipython",
    "version": 3
   },
   "file_extension": ".py",
   "mimetype": "text/x-python",
   "name": "python",
   "nbconvert_exporter": "python",
   "pygments_lexer": "ipython3",
   "version": "3.12.7"
  }
 },
 "nbformat": 4,
 "nbformat_minor": 5
}
