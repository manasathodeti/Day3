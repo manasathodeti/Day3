{
 "cells": [
  {
   "cell_type": "code",
   "execution_count": null,
   "id": "cfb84b86-8b43-48e2-820c-91951378a03f",
   "metadata": {},
   "outputs": [],
   "source": [
    "from math import log,log10,exp,e\n",
    "print(\"natural log:\",log(e))\n",
    "print(\"log base 10 of 100:\",log10(100))\n",
    "print(\"e to the power 2:\",exp(2))"
   ]
  }
 ],
 "metadata": {
  "kernelspec": {
   "display_name": "Python 3 (ipykernel)",
   "language": "python",
   "name": "python3"
  },
  "language_info": {
   "codemirror_mode": {
    "name": "ipython",
    "version": 3
   },
   "file_extension": ".py",
   "mimetype": "text/x-python",
   "name": "python",
   "nbconvert_exporter": "python",
   "pygments_lexer": "ipython3",
   "version": "3.12.7"
  }
 },
 "nbformat": 4,
 "nbformat_minor": 5
}
